{
 "cells": [
  {
   "cell_type": "code",
   "execution_count": 40,
   "metadata": {
    "collapsed": true
   },
   "outputs": [],
   "source": [
    "import pandas as pd\n",
    "import re\n",
    "import en_core_web_lg\n",
    "\n",
    "nlp = en_core_web_lg.load()"
   ]
  },
  {
   "cell_type": "code",
   "execution_count": 3,
   "outputs": [
    {
     "data": {
      "text/plain": "                      original_comment                              comment  \\\n0  Silk dress dressing gown #zarawoman  silk dress dressing gown #zarawoman   \n1                                    🔥                                    🔥   \n2                                   ❤️                                   ❤️   \n3                                   ❤️                                   ❤️   \n4                                    👏                                    👏   \n\n             user      lang                   datetime  Year  Month  Day  \\\n0            zara        en  2021-07-12 17:23:02+00:00  2021      7   12   \n1  bornventure_07  NotFound  2021-07-12 17:23:16+00:00  2021      7   12   \n2       vdreamerw  NotFound  2021-07-12 17:23:27+00:00  2021      7   12   \n3    meriem.__.05  NotFound  2021-07-12 17:23:31+00:00  2021      7   12   \n4         ayala.m  NotFound  2021-07-12 17:23:31+00:00  2021      7   12   \n\n         Date  Hour  TagsCount                   Emojis  EmojiCounts  \n0  2021-07-12    17          1                       {}            0  \n1  2021-07-12    17          0            {'🔥': 'fire'}            1  \n2  2021-07-12    17          0      {'❤️': 'red heart'}            1  \n3  2021-07-12    17          0      {'❤️': 'red heart'}            1  \n4  2021-07-12    17          0  {'👏': 'clapping hands'}            1  ",
      "text/html": "<div>\n<style scoped>\n    .dataframe tbody tr th:only-of-type {\n        vertical-align: middle;\n    }\n\n    .dataframe tbody tr th {\n        vertical-align: top;\n    }\n\n    .dataframe thead th {\n        text-align: right;\n    }\n</style>\n<table border=\"1\" class=\"dataframe\">\n  <thead>\n    <tr style=\"text-align: right;\">\n      <th></th>\n      <th>original_comment</th>\n      <th>comment</th>\n      <th>user</th>\n      <th>lang</th>\n      <th>datetime</th>\n      <th>Year</th>\n      <th>Month</th>\n      <th>Day</th>\n      <th>Date</th>\n      <th>Hour</th>\n      <th>TagsCount</th>\n      <th>Emojis</th>\n      <th>EmojiCounts</th>\n    </tr>\n  </thead>\n  <tbody>\n    <tr>\n      <th>0</th>\n      <td>Silk dress dressing gown #zarawoman</td>\n      <td>silk dress dressing gown #zarawoman</td>\n      <td>zara</td>\n      <td>en</td>\n      <td>2021-07-12 17:23:02+00:00</td>\n      <td>2021</td>\n      <td>7</td>\n      <td>12</td>\n      <td>2021-07-12</td>\n      <td>17</td>\n      <td>1</td>\n      <td>{}</td>\n      <td>0</td>\n    </tr>\n    <tr>\n      <th>1</th>\n      <td>🔥</td>\n      <td>🔥</td>\n      <td>bornventure_07</td>\n      <td>NotFound</td>\n      <td>2021-07-12 17:23:16+00:00</td>\n      <td>2021</td>\n      <td>7</td>\n      <td>12</td>\n      <td>2021-07-12</td>\n      <td>17</td>\n      <td>0</td>\n      <td>{'🔥': 'fire'}</td>\n      <td>1</td>\n    </tr>\n    <tr>\n      <th>2</th>\n      <td>❤️</td>\n      <td>❤️</td>\n      <td>vdreamerw</td>\n      <td>NotFound</td>\n      <td>2021-07-12 17:23:27+00:00</td>\n      <td>2021</td>\n      <td>7</td>\n      <td>12</td>\n      <td>2021-07-12</td>\n      <td>17</td>\n      <td>0</td>\n      <td>{'❤️': 'red heart'}</td>\n      <td>1</td>\n    </tr>\n    <tr>\n      <th>3</th>\n      <td>❤️</td>\n      <td>❤️</td>\n      <td>meriem.__.05</td>\n      <td>NotFound</td>\n      <td>2021-07-12 17:23:31+00:00</td>\n      <td>2021</td>\n      <td>7</td>\n      <td>12</td>\n      <td>2021-07-12</td>\n      <td>17</td>\n      <td>0</td>\n      <td>{'❤️': 'red heart'}</td>\n      <td>1</td>\n    </tr>\n    <tr>\n      <th>4</th>\n      <td>👏</td>\n      <td>👏</td>\n      <td>ayala.m</td>\n      <td>NotFound</td>\n      <td>2021-07-12 17:23:31+00:00</td>\n      <td>2021</td>\n      <td>7</td>\n      <td>12</td>\n      <td>2021-07-12</td>\n      <td>17</td>\n      <td>0</td>\n      <td>{'👏': 'clapping hands'}</td>\n      <td>1</td>\n    </tr>\n  </tbody>\n</table>\n</div>"
     },
     "execution_count": 3,
     "metadata": {},
     "output_type": "execute_result"
    }
   ],
   "source": [
    "df_zara = pd.read_csv('../data/zara_features.csv')\n",
    "df_zara.head()"
   ],
   "metadata": {
    "collapsed": false,
    "pycharm": {
     "name": "#%%\n"
    }
   }
  },
  {
   "cell_type": "code",
   "execution_count": 93,
   "outputs": [
    {
     "data": {
      "text/plain": "                                        original_comment  \\\n0                    Silk dress dressing gown #zarawoman   \n1                                                      🔥   \n2                                                     ❤️   \n3                                                     ❤️   \n4                                                      👏   \n...                                                  ...   \n28108  RT @NadiaMSkakovska: ➡️@movistar_es, @ZARA y @...   \n28109  🥇@ZARA, 🥈@movistar_es, 🥉@bancosantander, @iber...   \n28110  @ZARA @ZARA_Care La estrategia de cerrar tiend...   \n28111  📊 .@ZARA, la marca española más valiosa por cu...   \n28112  🔴 Dos detenidos en Ciudad Real que se disponía...   \n\n                                                 comment                 user  \\\n0                    silk dress dressing gown #zarawoman                 zara   \n1                                                      🔥       bornventure_07   \n2                                                     ❤️            vdreamerw   \n3                                                     ❤️         meriem.__.05   \n4                                                      👏              ayala.m   \n...                                                  ...                  ...   \n28108  rt @nadiamskakovska: ➡️@movistar_es, @zara and...       Juan Rodríguez   \n28109  🥇@zara, 🥈@movistar_es, 🥉@bancosantander, @iber...                Cesce   \n28110  @zara @zara_care the strategy of closing store...               Raquel   \n28111  📊 .@zara, the most valuable Spanish brand for ...  Pablo Mondragón 📱⚡️   \n28112  🔴 two detainees in Ciudad Real who were about ...     COPE Ciudad Real   \n\n           lang                   datetime  Year  Month  Day        Date  \\\n0            en  2021-07-12 17:23:02+00:00  2021      7   12  2021-07-12   \n1      NotFound  2021-07-12 17:23:16+00:00  2021      7   12  2021-07-12   \n2      NotFound  2021-07-12 17:23:27+00:00  2021      7   12  2021-07-12   \n3      NotFound  2021-07-12 17:23:31+00:00  2021      7   12  2021-07-12   \n4      NotFound  2021-07-12 17:23:31+00:00  2021      7   12  2021-07-12   \n...         ...                        ...   ...    ...  ...         ...   \n28108        es  2022-01-21 11:28:54+00:00  2022      1   21  2022-01-21   \n28109        es  2022-01-21 11:47:00+00:00  2022      1   21  2022-01-21   \n28110        es  2022-01-21 12:40:28+00:00  2022      1   21  2022-01-21   \n28111        es  2022-01-21 12:41:03+00:00  2022      1   21  2022-01-21   \n28112        es  2022-01-21 14:20:49+00:00  2022      1   21  2022-01-21   \n\n       Hour  TagsCount                                             Emojis  \\\n0        17          1                                                 {}   \n1        17          0                                      {'🔥': 'fire'}   \n2        17          0                                {'❤️': 'red heart'}   \n3        17          0                                {'❤️': 'red heart'}   \n4        17          0                            {'👏': 'clapping hands'}   \n...     ...        ...                                                ...   \n28108    11          0                              {'➡️': 'right arrow'}   \n28109    11          0  {'🥇': '1st place medal', '🥈': '2nd place medal...   \n28110    12          0                                                 {}   \n28111    12          0                                 {'📊': 'bar chart'}   \n28112    14          0      {'🔴': 'red circle', '📸': 'camera with flash'}   \n\n       EmojiCounts       Tags  \\\n0                0  zarawoman   \n1                1              \n2                1              \n3                1              \n4                1              \n...            ...        ...   \n28108            1              \n28109            3              \n28110            0              \n28111            1              \n28112            2              \n\n                                           clean_comment  \n0                               silk dress dressing gown  \n1                                                         \n2                                                         \n3                                                         \n4                                                         \n...                                                  ...  \n28108       repeat fourth year valuable spanish brand...  \n28109                              remain httpstcosm      \n28110  strategy closing stores locating large stores ...  \n28111  azara valuable spanish brand fourth consecutiv...  \n28112  detainees ciudad real steal van going unload  ...  \n\n[28113 rows x 15 columns]",
      "text/html": "<div>\n<style scoped>\n    .dataframe tbody tr th:only-of-type {\n        vertical-align: middle;\n    }\n\n    .dataframe tbody tr th {\n        vertical-align: top;\n    }\n\n    .dataframe thead th {\n        text-align: right;\n    }\n</style>\n<table border=\"1\" class=\"dataframe\">\n  <thead>\n    <tr style=\"text-align: right;\">\n      <th></th>\n      <th>original_comment</th>\n      <th>comment</th>\n      <th>user</th>\n      <th>lang</th>\n      <th>datetime</th>\n      <th>Year</th>\n      <th>Month</th>\n      <th>Day</th>\n      <th>Date</th>\n      <th>Hour</th>\n      <th>TagsCount</th>\n      <th>Emojis</th>\n      <th>EmojiCounts</th>\n      <th>Tags</th>\n      <th>clean_comment</th>\n    </tr>\n  </thead>\n  <tbody>\n    <tr>\n      <th>0</th>\n      <td>Silk dress dressing gown #zarawoman</td>\n      <td>silk dress dressing gown #zarawoman</td>\n      <td>zara</td>\n      <td>en</td>\n      <td>2021-07-12 17:23:02+00:00</td>\n      <td>2021</td>\n      <td>7</td>\n      <td>12</td>\n      <td>2021-07-12</td>\n      <td>17</td>\n      <td>1</td>\n      <td>{}</td>\n      <td>0</td>\n      <td>zarawoman</td>\n      <td>silk dress dressing gown</td>\n    </tr>\n    <tr>\n      <th>1</th>\n      <td>🔥</td>\n      <td>🔥</td>\n      <td>bornventure_07</td>\n      <td>NotFound</td>\n      <td>2021-07-12 17:23:16+00:00</td>\n      <td>2021</td>\n      <td>7</td>\n      <td>12</td>\n      <td>2021-07-12</td>\n      <td>17</td>\n      <td>0</td>\n      <td>{'🔥': 'fire'}</td>\n      <td>1</td>\n      <td></td>\n      <td></td>\n    </tr>\n    <tr>\n      <th>2</th>\n      <td>❤️</td>\n      <td>❤️</td>\n      <td>vdreamerw</td>\n      <td>NotFound</td>\n      <td>2021-07-12 17:23:27+00:00</td>\n      <td>2021</td>\n      <td>7</td>\n      <td>12</td>\n      <td>2021-07-12</td>\n      <td>17</td>\n      <td>0</td>\n      <td>{'❤️': 'red heart'}</td>\n      <td>1</td>\n      <td></td>\n      <td></td>\n    </tr>\n    <tr>\n      <th>3</th>\n      <td>❤️</td>\n      <td>❤️</td>\n      <td>meriem.__.05</td>\n      <td>NotFound</td>\n      <td>2021-07-12 17:23:31+00:00</td>\n      <td>2021</td>\n      <td>7</td>\n      <td>12</td>\n      <td>2021-07-12</td>\n      <td>17</td>\n      <td>0</td>\n      <td>{'❤️': 'red heart'}</td>\n      <td>1</td>\n      <td></td>\n      <td></td>\n    </tr>\n    <tr>\n      <th>4</th>\n      <td>👏</td>\n      <td>👏</td>\n      <td>ayala.m</td>\n      <td>NotFound</td>\n      <td>2021-07-12 17:23:31+00:00</td>\n      <td>2021</td>\n      <td>7</td>\n      <td>12</td>\n      <td>2021-07-12</td>\n      <td>17</td>\n      <td>0</td>\n      <td>{'👏': 'clapping hands'}</td>\n      <td>1</td>\n      <td></td>\n      <td></td>\n    </tr>\n    <tr>\n      <th>...</th>\n      <td>...</td>\n      <td>...</td>\n      <td>...</td>\n      <td>...</td>\n      <td>...</td>\n      <td>...</td>\n      <td>...</td>\n      <td>...</td>\n      <td>...</td>\n      <td>...</td>\n      <td>...</td>\n      <td>...</td>\n      <td>...</td>\n      <td>...</td>\n      <td>...</td>\n    </tr>\n    <tr>\n      <th>28108</th>\n      <td>RT @NadiaMSkakovska: ➡️@movistar_es, @ZARA y @...</td>\n      <td>rt @nadiamskakovska: ➡️@movistar_es, @zara and...</td>\n      <td>Juan Rodríguez</td>\n      <td>es</td>\n      <td>2022-01-21 11:28:54+00:00</td>\n      <td>2022</td>\n      <td>1</td>\n      <td>21</td>\n      <td>2022-01-21</td>\n      <td>11</td>\n      <td>0</td>\n      <td>{'➡️': 'right arrow'}</td>\n      <td>1</td>\n      <td></td>\n      <td>repeat fourth year valuable spanish brand...</td>\n    </tr>\n    <tr>\n      <th>28109</th>\n      <td>🥇@ZARA, 🥈@movistar_es, 🥉@bancosantander, @iber...</td>\n      <td>🥇@zara, 🥈@movistar_es, 🥉@bancosantander, @iber...</td>\n      <td>Cesce</td>\n      <td>es</td>\n      <td>2022-01-21 11:47:00+00:00</td>\n      <td>2022</td>\n      <td>1</td>\n      <td>21</td>\n      <td>2022-01-21</td>\n      <td>11</td>\n      <td>0</td>\n      <td>{'🥇': '1st place medal', '🥈': '2nd place medal...</td>\n      <td>3</td>\n      <td></td>\n      <td>remain httpstcosm</td>\n    </tr>\n    <tr>\n      <th>28110</th>\n      <td>@ZARA @ZARA_Care La estrategia de cerrar tiend...</td>\n      <td>@zara @zara_care the strategy of closing store...</td>\n      <td>Raquel</td>\n      <td>es</td>\n      <td>2022-01-21 12:40:28+00:00</td>\n      <td>2022</td>\n      <td>1</td>\n      <td>21</td>\n      <td>2022-01-21</td>\n      <td>12</td>\n      <td>0</td>\n      <td>{}</td>\n      <td>0</td>\n      <td></td>\n      <td>strategy closing stores locating large stores ...</td>\n    </tr>\n    <tr>\n      <th>28111</th>\n      <td>📊 .@ZARA, la marca española más valiosa por cu...</td>\n      <td>📊 .@zara, the most valuable Spanish brand for ...</td>\n      <td>Pablo Mondragón 📱⚡️</td>\n      <td>es</td>\n      <td>2022-01-21 12:41:03+00:00</td>\n      <td>2022</td>\n      <td>1</td>\n      <td>21</td>\n      <td>2022-01-21</td>\n      <td>12</td>\n      <td>0</td>\n      <td>{'📊': 'bar chart'}</td>\n      <td>1</td>\n      <td></td>\n      <td>azara valuable spanish brand fourth consecutiv...</td>\n    </tr>\n    <tr>\n      <th>28112</th>\n      <td>🔴 Dos detenidos en Ciudad Real que se disponía...</td>\n      <td>🔴 two detainees in Ciudad Real who were about ...</td>\n      <td>COPE Ciudad Real</td>\n      <td>es</td>\n      <td>2022-01-21 14:20:49+00:00</td>\n      <td>2022</td>\n      <td>1</td>\n      <td>21</td>\n      <td>2022-01-21</td>\n      <td>14</td>\n      <td>0</td>\n      <td>{'🔴': 'red circle', '📸': 'camera with flash'}</td>\n      <td>2</td>\n      <td></td>\n      <td>detainees ciudad real steal van going unload  ...</td>\n    </tr>\n  </tbody>\n</table>\n<p>28113 rows × 15 columns</p>\n</div>"
     },
     "execution_count": 93,
     "metadata": {},
     "output_type": "execute_result"
    }
   ],
   "source": [
    "df_zara['Tags'] = df_zara['comment'].apply(lambda x: ' '.join(re.findall(r\"#(\\w+)\", x)).strip())\n",
    "df_zara"
   ],
   "metadata": {
    "collapsed": false,
    "pycharm": {
     "name": "#%%\n"
    }
   }
  },
  {
   "cell_type": "code",
   "execution_count": 104,
   "outputs": [],
   "source": [
    "emoj = re.compile(\"[\"\n",
    "        u\"\\U0001F600-\\U0001F64F\"  # emoticons\n",
    "        u\"\\U0001F300-\\U0001F5FF\"  # symbols & pictographs\n",
    "        u\"\\U0001F680-\\U0001F6FF\"  # transport & map symbols\n",
    "        u\"\\U0001F1E0-\\U0001F1FF\"  # flags (iOS)\n",
    "        u\"\\U00002500-\\U00002BEF\"  # chinese char\n",
    "        u\"\\U00002702-\\U000027B0\"\n",
    "        u\"\\U00002702-\\U000027B0\"\n",
    "        u\"\\U000024C2-\\U0001F251\"\n",
    "        u\"\\U0001f926-\\U0001f937\"\n",
    "        u\"\\U00010000-\\U0010ffff\"\n",
    "        u\"\\u2640-\\u2642\"\n",
    "        u\"\\u2600-\\u2B55\"\n",
    "        u\"\\u200d\"\n",
    "        u\"\\u23cf\"\n",
    "        u\"\\u23e9\"\n",
    "        u\"\\u231a\"\n",
    "        u\"\\ufe0f\"  # dingbats\n",
    "        u\"\\u3030\"\n",
    "                      \"]+\", re.UNICODE)\n",
    "\n",
    "def clean_text(text):\n",
    "    text = text.lower().replace('#', ' #')\n",
    "    text = re.sub('(?<=^|(?<=[^a-zA-Z0-9-_\\.]))@([A-Za-z]+[A-Za-z0-9-_]+)', '', text)\n",
    "    text = re.sub(r'http\\S+', '', text)\n",
    "    text = re.sub(r\"#(\\w+)\", '', text)\n",
    "    text = re.sub(r'[^\\w\\s]', '', text)\n",
    "    text = re.sub(r'\\d', '', text)\n",
    "    text = re.sub(emoj, '', text)\n",
    "    text = text.replace(\"@\", 'a')\n",
    "    text = text.strip()\n",
    "    text = re.sub('[!.,/()=;:]', '', text)\n",
    "    text = re.sub(r'\\ba\\b\\s+', '', text)\n",
    "    text = re.findall(\"[a-zA-Z^'.]*\", text)\n",
    "    text = ' '.join(text)\n",
    "    if len(text) > 0:\n",
    "        doc = nlp(text)\n",
    "        if len(doc) > 0:\n",
    "            text = ' '.join([word.text for word in doc if word.is_stop == False and len(word.text) > 2 ])\n",
    "\n",
    "    text = re.sub(r\"\\b(\\w+)(?:\\W\\1\\b)+\", r\"\\1\", text)\n",
    "\n",
    "    return text\n",
    "\n",
    "df_zara['clean_comment'] = df_zara['comment'].apply(lambda x: clean_text(x))"
   ],
   "metadata": {
    "collapsed": false,
    "pycharm": {
     "name": "#%%\n"
    }
   }
  },
  {
   "cell_type": "code",
   "execution_count": 105,
   "outputs": [
    {
     "data": {
      "text/plain": "                                                 comment       Tags  \\\n0                               silk dress dressing gown  zarawoman   \n1                                                                     \n2                                                                     \n3                                                                     \n4                                                                     \n...                                                  ...        ...   \n28108       repeat fourth year valuable spanish brand...              \n28109                                             remain              \n28110  strategy closing stores locating large stores ...              \n28111  azara valuable spanish brand fourth consecutiv...              \n28112  detainees ciudad real steal van going unload  ...              \n\n       TagsCount                                             Emojis  \\\n0              1                                                 {}   \n1              0                                      {'🔥': 'fire'}   \n2              0                                {'❤️': 'red heart'}   \n3              0                                {'❤️': 'red heart'}   \n4              0                            {'👏': 'clapping hands'}   \n...          ...                                                ...   \n28108          0                              {'➡️': 'right arrow'}   \n28109          0  {'🥇': '1st place medal', '🥈': '2nd place medal...   \n28110          0                                                 {}   \n28111          0                                 {'📊': 'bar chart'}   \n28112          0      {'🔴': 'red circle', '📸': 'camera with flash'}   \n\n       EmojiCounts                 user      lang  Year  Month  Day  \\\n0                0                 zara        en  2021      7   12   \n1                1       bornventure_07  NotFound  2021      7   12   \n2                1            vdreamerw  NotFound  2021      7   12   \n3                1         meriem.__.05  NotFound  2021      7   12   \n4                1              ayala.m  NotFound  2021      7   12   \n...            ...                  ...       ...   ...    ...  ...   \n28108            1       Juan Rodríguez        es  2022      1   21   \n28109            3                Cesce        es  2022      1   21   \n28110            0               Raquel        es  2022      1   21   \n28111            1  Pablo Mondragón 📱⚡️        es  2022      1   21   \n28112            2     COPE Ciudad Real        es  2022      1   21   \n\n             Date  Hour  \n0      2021-07-12    17  \n1      2021-07-12    17  \n2      2021-07-12    17  \n3      2021-07-12    17  \n4      2021-07-12    17  \n...           ...   ...  \n28108  2022-01-21    11  \n28109  2022-01-21    11  \n28110  2022-01-21    12  \n28111  2022-01-21    12  \n28112  2022-01-21    14  \n\n[28113 rows x 12 columns]",
      "text/html": "<div>\n<style scoped>\n    .dataframe tbody tr th:only-of-type {\n        vertical-align: middle;\n    }\n\n    .dataframe tbody tr th {\n        vertical-align: top;\n    }\n\n    .dataframe thead th {\n        text-align: right;\n    }\n</style>\n<table border=\"1\" class=\"dataframe\">\n  <thead>\n    <tr style=\"text-align: right;\">\n      <th></th>\n      <th>comment</th>\n      <th>Tags</th>\n      <th>TagsCount</th>\n      <th>Emojis</th>\n      <th>EmojiCounts</th>\n      <th>user</th>\n      <th>lang</th>\n      <th>Year</th>\n      <th>Month</th>\n      <th>Day</th>\n      <th>Date</th>\n      <th>Hour</th>\n    </tr>\n  </thead>\n  <tbody>\n    <tr>\n      <th>0</th>\n      <td>silk dress dressing gown</td>\n      <td>zarawoman</td>\n      <td>1</td>\n      <td>{}</td>\n      <td>0</td>\n      <td>zara</td>\n      <td>en</td>\n      <td>2021</td>\n      <td>7</td>\n      <td>12</td>\n      <td>2021-07-12</td>\n      <td>17</td>\n    </tr>\n    <tr>\n      <th>1</th>\n      <td></td>\n      <td></td>\n      <td>0</td>\n      <td>{'🔥': 'fire'}</td>\n      <td>1</td>\n      <td>bornventure_07</td>\n      <td>NotFound</td>\n      <td>2021</td>\n      <td>7</td>\n      <td>12</td>\n      <td>2021-07-12</td>\n      <td>17</td>\n    </tr>\n    <tr>\n      <th>2</th>\n      <td></td>\n      <td></td>\n      <td>0</td>\n      <td>{'❤️': 'red heart'}</td>\n      <td>1</td>\n      <td>vdreamerw</td>\n      <td>NotFound</td>\n      <td>2021</td>\n      <td>7</td>\n      <td>12</td>\n      <td>2021-07-12</td>\n      <td>17</td>\n    </tr>\n    <tr>\n      <th>3</th>\n      <td></td>\n      <td></td>\n      <td>0</td>\n      <td>{'❤️': 'red heart'}</td>\n      <td>1</td>\n      <td>meriem.__.05</td>\n      <td>NotFound</td>\n      <td>2021</td>\n      <td>7</td>\n      <td>12</td>\n      <td>2021-07-12</td>\n      <td>17</td>\n    </tr>\n    <tr>\n      <th>4</th>\n      <td></td>\n      <td></td>\n      <td>0</td>\n      <td>{'👏': 'clapping hands'}</td>\n      <td>1</td>\n      <td>ayala.m</td>\n      <td>NotFound</td>\n      <td>2021</td>\n      <td>7</td>\n      <td>12</td>\n      <td>2021-07-12</td>\n      <td>17</td>\n    </tr>\n    <tr>\n      <th>...</th>\n      <td>...</td>\n      <td>...</td>\n      <td>...</td>\n      <td>...</td>\n      <td>...</td>\n      <td>...</td>\n      <td>...</td>\n      <td>...</td>\n      <td>...</td>\n      <td>...</td>\n      <td>...</td>\n      <td>...</td>\n    </tr>\n    <tr>\n      <th>28108</th>\n      <td>repeat fourth year valuable spanish brand...</td>\n      <td></td>\n      <td>0</td>\n      <td>{'➡️': 'right arrow'}</td>\n      <td>1</td>\n      <td>Juan Rodríguez</td>\n      <td>es</td>\n      <td>2022</td>\n      <td>1</td>\n      <td>21</td>\n      <td>2022-01-21</td>\n      <td>11</td>\n    </tr>\n    <tr>\n      <th>28109</th>\n      <td>remain</td>\n      <td></td>\n      <td>0</td>\n      <td>{'🥇': '1st place medal', '🥈': '2nd place medal...</td>\n      <td>3</td>\n      <td>Cesce</td>\n      <td>es</td>\n      <td>2022</td>\n      <td>1</td>\n      <td>21</td>\n      <td>2022-01-21</td>\n      <td>11</td>\n    </tr>\n    <tr>\n      <th>28110</th>\n      <td>strategy closing stores locating large stores ...</td>\n      <td></td>\n      <td>0</td>\n      <td>{}</td>\n      <td>0</td>\n      <td>Raquel</td>\n      <td>es</td>\n      <td>2022</td>\n      <td>1</td>\n      <td>21</td>\n      <td>2022-01-21</td>\n      <td>12</td>\n    </tr>\n    <tr>\n      <th>28111</th>\n      <td>azara valuable spanish brand fourth consecutiv...</td>\n      <td></td>\n      <td>0</td>\n      <td>{'📊': 'bar chart'}</td>\n      <td>1</td>\n      <td>Pablo Mondragón 📱⚡️</td>\n      <td>es</td>\n      <td>2022</td>\n      <td>1</td>\n      <td>21</td>\n      <td>2022-01-21</td>\n      <td>12</td>\n    </tr>\n    <tr>\n      <th>28112</th>\n      <td>detainees ciudad real steal van going unload  ...</td>\n      <td></td>\n      <td>0</td>\n      <td>{'🔴': 'red circle', '📸': 'camera with flash'}</td>\n      <td>2</td>\n      <td>COPE Ciudad Real</td>\n      <td>es</td>\n      <td>2022</td>\n      <td>1</td>\n      <td>21</td>\n      <td>2022-01-21</td>\n      <td>14</td>\n    </tr>\n  </tbody>\n</table>\n<p>28113 rows × 12 columns</p>\n</div>"
     },
     "execution_count": 105,
     "metadata": {},
     "output_type": "execute_result"
    }
   ],
   "source": [
    "df_zara_features = df_zara[['clean_comment', 'Tags', 'TagsCount', 'Emojis', 'EmojiCounts', 'user', 'lang', 'Year', 'Month', 'Day', 'Date', 'Hour']]\n",
    "\n",
    "df_zara_features = df_zara_features.rename(columns={'clean_comment': 'comment'})\n",
    "df_zara_features"
   ],
   "metadata": {
    "collapsed": false,
    "pycharm": {
     "name": "#%%\n"
    }
   }
  },
  {
   "cell_type": "code",
   "execution_count": 106,
   "outputs": [],
   "source": [
    "# df_zara_features.to_csv('../streamlit/zara_features.csv', index=False)"
   ],
   "metadata": {
    "collapsed": false,
    "pycharm": {
     "name": "#%%\n"
    }
   }
  },
  {
   "cell_type": "code",
   "execution_count": null,
   "outputs": [],
   "source": [],
   "metadata": {
    "collapsed": false,
    "pycharm": {
     "name": "#%%\n"
    }
   }
  }
 ],
 "metadata": {
  "kernelspec": {
   "display_name": "Python 3",
   "language": "python",
   "name": "python3"
  },
  "language_info": {
   "codemirror_mode": {
    "name": "ipython",
    "version": 2
   },
   "file_extension": ".py",
   "mimetype": "text/x-python",
   "name": "python",
   "nbconvert_exporter": "python",
   "pygments_lexer": "ipython2",
   "version": "2.7.6"
  }
 },
 "nbformat": 4,
 "nbformat_minor": 0
}